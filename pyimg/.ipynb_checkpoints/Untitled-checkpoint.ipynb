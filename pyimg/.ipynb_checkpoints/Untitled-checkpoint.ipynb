{
 "cells": [
  {
   "cell_type": "code",
   "execution_count": 2,
   "metadata": {},
   "outputs": [
    {
     "data": {
      "text/plain": [
       "[]"
      ]
     },
     "execution_count": 2,
     "metadata": {},
     "output_type": "execute_result"
    }
   ],
   "source": [
    "from __future__ import division\n",
    "from sympy import *\n",
    "\n",
    "q = Symbol(\"q\", positive = True)\n",
    "m = Matrix([[-2*cosh(q/3), exp(-q), 1],[ exp(q), -2*cosh(q/3),  1],[1, 1, -2*cosh(q/3)]])\n",
    "m.nullspace()"
   ]
  },
  {
   "cell_type": "code",
   "execution_count": 6,
   "metadata": {},
   "outputs": [
    {
     "name": "stderr",
     "output_type": "stream",
     "text": [
      "c:\\users\\user\\appdata\\local\\programs\\python\\python37-32\\lib\\site-packages\\ipykernel_launcher.py:10: UserWarning: Zero testing of 4*cosh(q/3)**2 - 1 evaluated into None\n",
      "  # Remove the CWD from sys.path while we load stuff.\n",
      "c:\\users\\user\\appdata\\local\\programs\\python\\python37-32\\lib\\site-packages\\ipykernel_launcher.py:10: UserWarning: Zero testing of (-exp(q) - 2*cosh(q/3))*(-2*cosh(q/3) - exp(-q)) - (4*cosh(q/3)**2 - 1)**2 evaluated into None\n",
      "  # Remove the CWD from sys.path while we load stuff.\n",
      "c:\\users\\user\\appdata\\local\\programs\\python\\python37-32\\lib\\site-packages\\ipykernel_launcher.py:10: UserWarning: Zero testing of 2*exp(q)*cosh(q/3) - 16*cosh(q/3)**4 + 12*cosh(q/3)**2 + 2*exp(-q)*cosh(q/3) evaluated into None\n",
      "  # Remove the CWD from sys.path while we load stuff.\n",
      "c:\\users\\user\\appdata\\local\\programs\\python\\python37-32\\lib\\site-packages\\ipykernel_launcher.py:10: UserWarning: Zero testing of -(4*cosh(q/3)**2 - 1)*exp(-q) - 2*cosh(q/3) - exp(-q) evaluated into None\n",
      "  # Remove the CWD from sys.path while we load stuff.\n"
     ]
    },
    {
     "data": {
      "text/plain": [
       "[]"
      ]
     },
     "execution_count": 6,
     "metadata": {},
     "output_type": "execute_result"
    }
   ],
   "source": [
    "import warnings\n",
    "def my_iszero(x):\n",
    "    try:\n",
    "        result = x.is_zero\n",
    "    except AttributeError:\n",
    "        result = None\n",
    "\n",
    "     # Warnings if evaluated into None\n",
    "    if result == None:\n",
    "        warnings.warn(\"Zero testing of {} evaluated into {}\".format(x, result))\n",
    "    return result\n",
    "    \n",
    "m.nullspace(iszerofunc=my_iszero)"
   ]
  },
  {
   "cell_type": "code",
   "execution_count": 7,
   "metadata": {},
   "outputs": [],
   "source": [
    "def my_iszero(x):\n",
    "    try:\n",
    "        result = x.rewrite(exp).simplify().is_zero\n",
    "    except AttributeError:\n",
    "        result = None\n",
    "# Warnings if evaluated into None\n",
    "    if result == None:\n",
    "        warnings.warn(\"Zero testing of {} evaluated into {}\".format(x, result))\n",
    "    return result"
   ]
  },
  {
   "cell_type": "code",
   "execution_count": 15,
   "metadata": {},
   "outputs": [
    {
     "name": "stderr",
     "output_type": "stream",
     "text": [
      "c:\\users\\user\\appdata\\local\\programs\\python\\python37-32\\lib\\site-packages\\ipykernel_launcher.py:8: UserWarning: Zero testing of -2*cosh(q/3) - exp(-q) evaluated into None\n",
      "  \n"
     ]
    },
    {
     "data": {
      "text/latex": [
       "$\\displaystyle \\left[ \\left[\\begin{matrix}\\frac{- \\left(- e^{q} - 2 \\cosh{\\left(\\frac{q}{3} \\right)}\\right) e^{- q} + 4 \\cosh^{2}{\\left(\\frac{q}{3} \\right)} - 1}{2 \\left(4 \\cosh^{2}{\\left(\\frac{q}{3} \\right)} - 1\\right) \\cosh{\\left(\\frac{q}{3} \\right)}}\\\\- \\frac{- e^{q} - 2 \\cosh{\\left(\\frac{q}{3} \\right)}}{4 \\cosh^{2}{\\left(\\frac{q}{3} \\right)} - 1}\\\\1\\end{matrix}\\right]\\right]$"
      ],
      "text/plain": [
       "⎡⎡  ⎛   q         ⎛q⎞⎞  -q         2⎛q⎞    ⎤⎤\n",
       "⎢⎢- ⎜- ℯ  - 2⋅cosh⎜─⎟⎟⋅ℯ   + 4⋅cosh ⎜─⎟ - 1⎥⎥\n",
       "⎢⎢  ⎝             ⎝3⎠⎠              ⎝3⎠    ⎥⎥\n",
       "⎢⎢─────────────────────────────────────────⎥⎥\n",
       "⎢⎢          ⎛      2⎛q⎞    ⎞     ⎛q⎞       ⎥⎥\n",
       "⎢⎢        2⋅⎜4⋅cosh ⎜─⎟ - 1⎟⋅cosh⎜─⎟       ⎥⎥\n",
       "⎢⎢          ⎝       ⎝3⎠    ⎠     ⎝3⎠       ⎥⎥\n",
       "⎢⎢                                         ⎥⎥\n",
       "⎢⎢           ⎛   q         ⎛q⎞⎞            ⎥⎥\n",
       "⎢⎢          -⎜- ℯ  - 2⋅cosh⎜─⎟⎟            ⎥⎥\n",
       "⎢⎢           ⎝             ⎝3⎠⎠            ⎥⎥\n",
       "⎢⎢          ────────────────────           ⎥⎥\n",
       "⎢⎢                   2⎛q⎞                  ⎥⎥\n",
       "⎢⎢             4⋅cosh ⎜─⎟ - 1              ⎥⎥\n",
       "⎢⎢                    ⎝3⎠                  ⎥⎥\n",
       "⎢⎢                                         ⎥⎥\n",
       "⎣⎣                    1                    ⎦⎦"
      ]
     },
     "execution_count": 15,
     "metadata": {},
     "output_type": "execute_result"
    }
   ],
   "source": [
    "init_printing()\n",
    "m.nullspace(iszerofunc=my_iszero)"
   ]
  },
  {
   "cell_type": "code",
   "execution_count": null,
   "metadata": {},
   "outputs": [],
   "source": []
  }
 ],
 "metadata": {
  "kernelspec": {
   "display_name": "Python 3",
   "language": "python",
   "name": "python3"
  },
  "language_info": {
   "codemirror_mode": {
    "name": "ipython",
    "version": 3
   },
   "file_extension": ".py",
   "mimetype": "text/x-python",
   "name": "python",
   "nbconvert_exporter": "python",
   "pygments_lexer": "ipython3",
   "version": "3.7.0"
  }
 },
 "nbformat": 4,
 "nbformat_minor": 2
}
